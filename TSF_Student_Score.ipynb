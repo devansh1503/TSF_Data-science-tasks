{
  "nbformat": 4,
  "nbformat_minor": 0,
  "metadata": {
    "colab": {
      "name": "TSF-Student Score.ipynb",
      "provenance": [],
      "authorship_tag": "ABX9TyOjBPEFBWiI6Y1TsQXpqYto",
      "include_colab_link": true
    },
    "kernelspec": {
      "name": "python3",
      "display_name": "Python 3"
    },
    "language_info": {
      "name": "python"
    }
  },
  "cells": [
    {
      "cell_type": "markdown",
      "metadata": {
        "id": "view-in-github",
        "colab_type": "text"
      },
      "source": [
        "<a href=\"https://colab.research.google.com/github/devansh1503/TSF_Data-science-tasks/blob/main/TSF_Student_Score.ipynb\" target=\"_parent\"><img src=\"https://colab.research.google.com/assets/colab-badge.svg\" alt=\"Open In Colab\"/></a>"
      ]
    },
    {
      "cell_type": "markdown",
      "source": [
        "Importing required liberaries"
      ],
      "metadata": {
        "id": "Qy5WeEbsIG0x"
      }
    },
    {
      "cell_type": "code",
      "execution_count": null,
      "metadata": {
        "id": "pj5l3tIF8Qx3"
      },
      "outputs": [],
      "source": [
        "import numpy as np\n",
        "import pandas as pd\n",
        "import matplotlib.pyplot as plt\n",
        "from sklearn.linear_model import LinearRegression"
      ]
    },
    {
      "cell_type": "markdown",
      "source": [
        "Reading the Student score dataset from the provided link"
      ],
      "metadata": {
        "id": "qSPoPrKhISYY"
      }
    },
    {
      "cell_type": "code",
      "source": [
        "data = pd.read_csv(\"https://raw.githubusercontent.com/AdiPersonalWorks/Random/master/student_scores%20-%20student_scores.csv\")"
      ],
      "metadata": {
        "id": "nWQ9unVC89i6"
      },
      "execution_count": null,
      "outputs": []
    },
    {
      "cell_type": "markdown",
      "source": [
        "Here we plot a graph of Hours versus the Score of students"
      ],
      "metadata": {
        "id": "5TGWmBr9IZc3"
      }
    },
    {
      "cell_type": "code",
      "source": [
        "data.plot(x='Hours',y='Scores', style='o')\n",
        "plt.show()"
      ],
      "metadata": {
        "colab": {
          "base_uri": "https://localhost:8080/",
          "height": 279
        },
        "id": "Ee9mn3FWC1OY",
        "outputId": "6f9eacaa-a537-42da-e163-6257c7f6d78e"
      },
      "execution_count": null,
      "outputs": [
        {
          "output_type": "display_data",
          "data": {
            "text/plain": [
              "<Figure size 432x288 with 1 Axes>"
            ],
            "image/png": "[encoded data removed]"
          },
          "metadata": {
            "needs_background": "light"
          }
        }
      ]
    },
    {
      "cell_type": "markdown",
      "source": [
        "Splitting the data into features('Hours') and Labels('Score')\n",
        "and then further splitting the data into training and testing data"
      ],
      "metadata": {
        "id": "ep4keiHJIiPJ"
      }
    },
    {
      "cell_type": "code",
      "source": [
        "features = data['Hours'].values\n",
        "labels = data['Scores'].values"
      ],
      "metadata": {
        "id": "DuNhs7Pf9zlw"
      },
      "execution_count": null,
      "outputs": []
    },
    {
      "cell_type": "code",
      "source": [
        "from sklearn.model_selection import train_test_split  \n",
        "train_x, test_x, train_y, test_y = train_test_split(features, labels, \n",
        "                            test_size=0.2, random_state=0) "
      ],
      "metadata": {
        "id": "FCnzRkkRBC1g"
      },
      "execution_count": null,
      "outputs": []
    },
    {
      "cell_type": "code",
      "source": [
        "train_x = train_x.reshape(-1,1)\n",
        "train_y = train_y.reshape(-1,1)\n",
        "test_x = test_x.reshape(-1,1)\n",
        "text_y = test_y.reshape(-1,1)"
      ],
      "metadata": {
        "id": "HV6DVyjNBTvR"
      },
      "execution_count": null,
      "outputs": []
    },
    {
      "cell_type": "markdown",
      "source": [
        "Here we create our Linear Regression Model and fit in our training data"
      ],
      "metadata": {
        "id": "QmgTL46ZI1f9"
      }
    },
    {
      "cell_type": "code",
      "source": [
        "rg_model = LinearRegression().fit(train_x, train_y)"
      ],
      "metadata": {
        "id": "5B08FpdK-Npz"
      },
      "execution_count": null,
      "outputs": []
    },
    {
      "cell_type": "code",
      "source": [
        "predicted_values = rg_model.predict(test_x)"
      ],
      "metadata": {
        "id": "gROb0HGGF4FY"
      },
      "execution_count": null,
      "outputs": []
    },
    {
      "cell_type": "markdown",
      "source": [
        "Evaluating our model"
      ],
      "metadata": {
        "id": "h0Q2iA8uI7pM"
      }
    },
    {
      "cell_type": "code",
      "source": [
        "from sklearn import metrics  \n",
        "print('Mean Absolute Error:', \n",
        "      metrics.mean_absolute_error(test_y, predicted_values)) "
      ],
      "metadata": {
        "colab": {
          "base_uri": "https://localhost:8080/"
        },
        "id": "_R1LUgpYGMSk",
        "outputId": "2e9a9f8e-94d9-472e-aae7-4a3de0ea8c6a"
      },
      "execution_count": null,
      "outputs": [
        {
          "output_type": "stream",
          "name": "stdout",
          "text": [
            "Mean Absolute Error: 4.183859899002982\n"
          ]
        }
      ]
    },
    {
      "cell_type": "code",
      "source": [
        "result = rg_model.predict([[9.25]])\n",
        "print(\"The Predicted Score is: \", result[0][0])"
      ],
      "metadata": {
        "colab": {
          "base_uri": "https://localhost:8080/"
        },
        "id": "5G99vfRbBZp1",
        "outputId": "094620d0-3f18-4b15-d890-fe3086aa2e5f"
      },
      "execution_count": null,
      "outputs": [
        {
          "output_type": "stream",
          "name": "stdout",
          "text": [
            "The Predicted Score is:  93.69173248737539\n"
          ]
        }
      ]
    },
    {
      "cell_type": "markdown",
      "source": [
        "Plotting the regression line"
      ],
      "metadata": {
        "id": "T-Dt9t_RI-XV"
      }
    },
    {
      "cell_type": "code",
      "source": [
        "x = features.reshape(-1,1)\n",
        "slope = rg_model.coef_*x + rg_model.intercept_\n",
        "plt.scatter(x,labels)\n",
        "plt.plot(x,slope)\n",
        "plt.show()\n",
        "print(\"Value of cofficient:\",rg_model.coef_,\"Value of Intercept:\",rg_model.intercept_)\n"
      ],
      "metadata": {
        "colab": {
          "base_uri": "https://localhost:8080/",
          "height": 282
        },
        "id": "eZz_Sy3DHHIn",
        "outputId": "4f153462-e85f-4b22-f3e3-2ca1a3e44e75"
      },
      "execution_count": null,
      "outputs": [
        {
          "output_type": "display_data",
          "data": {
            "text/plain": [
              "<Figure size 432x288 with 1 Axes>"
            ],
            "image/png": "[encoded data removed]"
          },
          "metadata": {
            "needs_background": "light"
          }
        },
        {
          "output_type": "stream",
          "name": "stdout",
          "text": [
            "Value of cofficient: [[9.91065648]] Value of Intercept: [2.01816004]\n"
          ]
        }
      ]
    }
  ]
}